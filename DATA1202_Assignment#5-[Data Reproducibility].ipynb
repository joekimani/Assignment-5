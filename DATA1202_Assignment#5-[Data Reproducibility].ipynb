{
 "cells": [
  {
   "cell_type": "markdown",
   "metadata": {},
   "source": [
    "# Step 1: Load Libraries"
   ]
  },
  {
   "cell_type": "code",
   "execution_count": null,
   "metadata": {},
   "outputs": [],
   "source": [
    "import glob\n",
    "import matplotlib\n",
    "import pandas as pd\n",
    "import matplotlib.pyplot \n",
    "import matplotlib.pyplot as plt\n",
    "import numpy as np\n",
    "\n",
    "dataset = sorted(glob.glob('data*.csv'))"
   ]
  },
  {
   "cell_type": "markdown",
   "metadata": {},
   "source": [
    "# Step 2: Create the visualize() function"
   ]
  },
  {
   "cell_type": "code",
   "execution_count": null,
   "metadata": {},
   "outputs": [],
   "source": [
    "#Function produces a plot of average, max and min of each of the features.\n",
    "def visualize(filename):\n",
    "    \"\"\"Plot the line graphs\"\"\"\n",
    "    data = pd.read_csv(filepath_or_buffer = filename, header = None)\n",
    "    average = data.mean(axis=0)\n",
    "    maximum = data.max(axis=0)\n",
    "    minimum = data.min(axis=0)\n",
    "    \n",
    "    plt.plot(average, label='Average')\n",
    "    plt.plot(maximum, label='Maximum')\n",
    "    plt.plot(minimum, label='Minimum')\n",
    "    \n",
    "    plt.xlabel('Feature#')\n",
    "    plt.ylabel('Values')  \n",
    "    plt.legend()\n",
    "    plt.show()"
   ]
  },
  {
   "cell_type": "markdown",
   "metadata": {},
   "source": [
    "#  Step 3: Create the identify_issues() function"
   ]
  },
  {
   "cell_type": "code",
   "execution_count": null,
   "metadata": {},
   "outputs": [],
   "source": [
    "def identify_issues(filename):\n",
    "    \"\"\"Check the integrity of each dataset and Prints the result in a message\"\"\"\n",
    "    data = pd.read_csv(filepath_or_buffer = filename, header = None)\n",
    "    average = data.mean(axis=0)\n",
    "    maximum = data.max(axis=0)\n",
    "    minimum = data.min(axis=0)\n",
    " \n",
    "    \n",
    "    if maximum[0] == 0 and maximum[20] == 20:\n",
    "        print(\"I doubt the integrity of this dataset\")\n",
    "    elif minimum.sum() == 0:\n",
    "        print(\"Why is this happening?\")\n",
    "    else:\n",
    "        print(\"Dataset looks good\")"
   ]
  },
  {
   "cell_type": "markdown",
   "metadata": {},
   "source": [
    "# Step 4: Call visualize() and identify_issues() functions"
   ]
  },
  {
   "cell_type": "code",
   "execution_count": null,
   "metadata": {
    "scrolled": true
   },
   "outputs": [],
   "source": [
    "#Iterates through each of the data*.csv files and runs the visualize() and identify_issues() functions\n",
    "for datasets in dataset[:4]:\n",
    "    print(\"\\n\")\n",
    "    print(datasets)\n",
    "    visualize(datasets)\n",
    "    identify_issues(datasets)"
   ]
  },
  {
   "cell_type": "code",
   "execution_count": null,
   "metadata": {},
   "outputs": [],
   "source": []
  }
 ],
 "metadata": {
  "kernelspec": {
   "display_name": "Python 3",
   "language": "python",
   "name": "python3"
  },
  "language_info": {
   "codemirror_mode": {
    "name": "ipython",
    "version": 3
   },
   "file_extension": ".py",
   "mimetype": "text/x-python",
   "name": "python",
   "nbconvert_exporter": "python",
   "pygments_lexer": "ipython3",
   "version": "3.8.3"
  }
 },
 "nbformat": 4,
 "nbformat_minor": 4
}
